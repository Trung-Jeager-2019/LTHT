{
 "cells": [
  {
   "cell_type": "markdown",
   "metadata": {},
   "source": [
    "# Building a text classifier"
   ]
  },
  {
   "cell_type": "markdown",
   "metadata": {},
   "source": [
    "1. Include the following lines in a new Python file to add datasets:"
   ]
  },
  {
   "cell_type": "code",
   "execution_count": 3,
   "metadata": {},
   "outputs": [],
   "source": [
    "from sklearn.datasets import fetch_20newsgroups\n",
    "category_mapping = {'misc.forsale': 'Sellings', 'rec.motorcycles':'Motorbikes',\n",
    "                    'rec.sport.baseball': 'Baseball', 'sci.crypt':'Cryptography','sci.space': 'OuterSpace'}\n",
    "training_content = fetch_20newsgroups(subset='train',categories=category_mapping.keys(), \n",
    "                                      shuffle=True, random_state=7)"
   ]
  },
  {
   "cell_type": "markdown",
   "metadata": {},
   "source": [
    "2. Perform feature extraction to extract the main words from the text:"
   ]
  },
  {
   "cell_type": "code",
   "execution_count": 4,
   "metadata": {},
   "outputs": [
    {
     "name": "stdout",
     "output_type": "stream",
     "text": [
      "nDimensions of training data: (2968, 40605)\n"
     ]
    }
   ],
   "source": [
    "from sklearn.feature_extraction.text import CountVectorizer\n",
    "vectorizing = CountVectorizer()\n",
    "train_counts = vectorizing.fit_transform(training_content.data)\n",
    "print (\"nDimensions of training data:\", train_counts.shape)"
   ]
  },
  {
   "cell_type": "markdown",
   "metadata": {},
   "source": [
    "3. Train the classifie"
   ]
  },
  {
   "cell_type": "code",
   "execution_count": 8,
   "metadata": {},
   "outputs": [],
   "source": [
    "from sklearn.naive_bayes import MultinomialNB\n",
    "from sklearn.feature_extraction.text import TfidfTransformer\n",
    "input_content = [\"The curveballs of right handed pitchers tend to curve to the left\",\n",
    "                 \"Caesar cipher is an ancient form of encryption\",\n",
    "                 \"This two-wheeler is really good on slippery roads\"]\n",
    "\n",
    "tfidf_transformer = TfidfTransformer()\n",
    "train_tfidf = tfidf_transformer.fit_transform(train_counts)"
   ]
  },
  {
   "cell_type": "markdown",
   "metadata": {},
   "source": [
    "4. Implement the Multinomial Naive Bayes classifie"
   ]
  },
  {
   "cell_type": "code",
   "execution_count": 9,
   "metadata": {},
   "outputs": [],
   "source": [
    "classifier = MultinomialNB().fit(train_tfidf, training_content.target)\n",
    "input_counts = vectorizing.transform(input_content)\n",
    "input_tfidf = tfidf_transformer.transform(input_counts)"
   ]
  },
  {
   "cell_type": "markdown",
   "metadata": {},
   "source": [
    "5. Predict the output categories:"
   ]
  },
  {
   "cell_type": "code",
   "execution_count": 10,
   "metadata": {},
   "outputs": [],
   "source": [
    "categories_prediction = classifier.predict(input_tfidf)"
   ]
  },
  {
   "cell_type": "markdown",
   "metadata": {},
   "source": [
    "6. Print the output:"
   ]
  },
  {
   "cell_type": "code",
   "execution_count": 12,
   "metadata": {},
   "outputs": [
    {
     "name": "stdout",
     "output_type": "stream",
     "text": [
      "nInput: The curveballs of right handed pitchers tend to curve to the left nPredicted category: Baseball\n",
      "nInput: Caesar cipher is an ancient form of encryption nPredicted category: Cryptography\n",
      "nInput: This two-wheeler is really good on slippery roads nPredicted category: Motorbikes\n"
     ]
    }
   ],
   "source": [
    "for sentence, category in zip(input_content,\n",
    "categories_prediction):\n",
    "    print ('nInput:', sentence, 'nPredicted category:', category_mapping[training_content.target_names[category]])"
   ]
  },
  {
   "cell_type": "code",
   "execution_count": null,
   "metadata": {},
   "outputs": [],
   "source": []
  }
 ],
 "metadata": {
  "kernelspec": {
   "display_name": "Python 3",
   "language": "python",
   "name": "python3"
  },
  "language_info": {
   "codemirror_mode": {
    "name": "ipython",
    "version": 3
   },
   "file_extension": ".py",
   "mimetype": "text/x-python",
   "name": "python",
   "nbconvert_exporter": "python",
   "pygments_lexer": "ipython3",
   "version": "3.7.3"
  }
 },
 "nbformat": 4,
 "nbformat_minor": 2
}
