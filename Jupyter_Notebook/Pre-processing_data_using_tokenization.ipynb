{
 "cells": [
  {
   "cell_type": "markdown",
   "metadata": {},
   "source": [
    "# Pre-processing data using tokenization"
   ]
  },
  {
   "cell_type": "markdown",
   "metadata": {},
   "source": [
    "1. Introduce sentence tokenization"
   ]
  },
  {
   "cell_type": "code",
   "execution_count": 6,
   "metadata": {},
   "outputs": [],
   "source": [
    "text = 'Tokenization is the process of dividing text into a set of meaningful pieces. These pieces are called tokens.'\n",
    "from nltk.tokenize import sent_tokenize"
   ]
  },
  {
   "cell_type": "markdown",
   "metadata": {},
   "source": [
    "2. Form a new text tokenizer:"
   ]
  },
  {
   "cell_type": "code",
   "execution_count": 7,
   "metadata": {},
   "outputs": [
    {
     "name": "stdout",
     "output_type": "stream",
     "text": [
      "nSentence tokenizer:\n",
      "['Tokenization is the process of dividing text into a set of meaningful pieces.', 'These pieces are called tokens.']\n"
     ]
    }
   ],
   "source": [
    "tokenize_list_sent = sent_tokenize(text)\n",
    "print (\"nSentence tokenizer:\")\n",
    "print (tokenize_list_sent)"
   ]
  },
  {
   "cell_type": "markdown",
   "metadata": {},
   "source": [
    "3. Form a new word tokenizer:"
   ]
  },
  {
   "cell_type": "code",
   "execution_count": 8,
   "metadata": {},
   "outputs": [
    {
     "name": "stdout",
     "output_type": "stream",
     "text": [
      "nWord tokenizer:\n",
      "['Tokenization', 'is', 'the', 'process', 'of', 'dividing', 'text', 'into', 'a', 'set', 'of', 'meaningful', 'pieces', '.', 'These', 'pieces', 'are', 'called', 'tokens', '.']\n"
     ]
    }
   ],
   "source": [
    "from nltk.tokenize import word_tokenize\n",
    "print (\"nWord tokenizer:\")\n",
    "print (word_tokenize(text))"
   ]
  },
  {
   "cell_type": "markdown",
   "metadata": {},
   "source": [
    "4. Introduce a new WordPunct tokenizer:"
   ]
  },
  {
   "cell_type": "code",
   "execution_count": 9,
   "metadata": {},
   "outputs": [
    {
     "name": "stdout",
     "output_type": "stream",
     "text": [
      "nWord punct tokenizer:\n",
      "['Tokenization', 'is', 'the', 'process', 'of', 'dividing', 'text', 'into', 'a', 'set', 'of', 'meaningful', 'pieces', '.', 'These', 'pieces', 'are', 'called', 'tokens', '.']\n"
     ]
    }
   ],
   "source": [
    "from nltk.tokenize import WordPunctTokenizer\n",
    "word_punct_tokenizer = WordPunctTokenizer()\n",
    "print (\"nWord punct tokenizer:\")\n",
    "print (word_punct_tokenizer.tokenize(text))"
   ]
  }
 ],
 "metadata": {
  "kernelspec": {
   "display_name": "Python 3",
   "language": "python",
   "name": "python3"
  },
  "language_info": {
   "codemirror_mode": {
    "name": "ipython",
    "version": 3
   },
   "file_extension": ".py",
   "mimetype": "text/x-python",
   "name": "python",
   "nbconvert_exporter": "python",
   "pygments_lexer": "ipython3",
   "version": "3.7.3"
  }
 },
 "nbformat": 4,
 "nbformat_minor": 2
}
